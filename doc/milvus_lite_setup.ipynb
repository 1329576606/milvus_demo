{
 "cells": [
  {
   "metadata": {},
   "cell_type": "markdown",
   "source": [
    "安装\n",
    "```shell\n",
    "pip install -U pymilvus\n",
    "```"
   ],
   "id": "e3db78e3a33d5e18"
  },
  {
   "metadata": {},
   "cell_type": "markdown",
   "source": "初始化 db",
   "id": "d742c637b0b68c1b"
  },
  {
   "cell_type": "code",
   "id": "initial_id",
   "metadata": {
    "collapsed": true,
    "ExecuteTime": {
     "end_time": "2025-01-17T09:06:15.019171Z",
     "start_time": "2025-01-17T09:06:15.011791Z"
    }
   },
   "source": [
    "import os\n",
    "from pymilvus import MilvusClient\n",
    "\n",
    "db_path = \"./.db/milvus_demo.db\"\n",
    "db_dir = os.path.dirname(db_path)\n",
    "\n",
    "if not os.path.exists(db_dir):\n",
    "    os.makedirs(db_dir)\n",
    "client = MilvusClient(db_path)"
   ],
   "outputs": [],
   "execution_count": 71
  },
  {
   "metadata": {},
   "cell_type": "markdown",
   "source": "创建集合",
   "id": "58e752eaedd604cd"
  },
  {
   "metadata": {
    "ExecuteTime": {
     "end_time": "2025-01-17T09:06:15.538002Z",
     "start_time": "2025-01-17T09:06:15.024795Z"
    }
   },
   "cell_type": "code",
   "source": [
    "client.create_collection(\n",
    "    collection_name=\"demo_collection\",\n",
    "    dimension=384  # 我们将在这个演示中使用的向量有384个维度\n",
    ")"
   ],
   "id": "ff646a014735e535",
   "outputs": [],
   "execution_count": 72
  },
  {
   "metadata": {},
   "cell_type": "markdown",
   "source": "写入数据",
   "id": "36db3a9371df7d19"
  },
  {
   "metadata": {
    "ExecuteTime": {
     "end_time": "2025-01-17T09:06:15.560060Z",
     "start_time": "2025-01-17T09:06:15.543181Z"
    }
   },
   "cell_type": "code",
   "source": [
    "import numpy as np\n",
    "\n",
    "# Text strings to search from.\n",
    "docs = [\n",
    "    \"Artificial intelligence was founded as an academic discipline in 1956.\",\n",
    "    \"Alan Turing was the first person to conduct substantial research in AI.\",\n",
    "    \"Born in Maida Vale, London, Turing was raised in southern England.\",\n",
    "]\n",
    "# For illustration, here we use fake vectors with random numbers (384 dimension).\n",
    "\n",
    "vectors = [[ np.random.uniform(-1, 1) for _ in range(384) ] for _ in range(len(docs)) ]\n",
    "data = [ {\"id\": i, \"vector\": vectors[i], \"text\": docs[i], \"subject\": \"history\"} for i in range(len(vectors)) ]\n",
    "res = client.insert(\n",
    "    collection_name=\"demo_collection\",\n",
    "    data=data\n",
    ")\n"
   ],
   "id": "9aa2b3cc1a0c1f7f",
   "outputs": [],
   "execution_count": 73
  },
  {
   "metadata": {},
   "cell_type": "markdown",
   "source": "查询数据",
   "id": "295bfc4137b8eb5c"
  },
  {
   "metadata": {
    "ExecuteTime": {
     "end_time": "2025-01-17T09:06:15.581112Z",
     "start_time": "2025-01-17T09:06:15.568059Z"
    }
   },
   "cell_type": "code",
   "source": [
    "# This will exclude any text in \"history\" subject despite close to the query vector.\n",
    "# 他将排除“历史”主题中的任何文本，尽管接近查询向量。\n",
    "res = client.search(\n",
    "    collection_name=\"demo_collection\",\n",
    "    data=[vectors[0]],\n",
    "    filter=\"subject == 'history'\",\n",
    "    limit=2,\n",
    "    output_fields=[\"text\", \"subject\"],\n",
    ")\n",
    "print(res)"
   ],
   "id": "3c369c519035c994",
   "outputs": [
    {
     "name": "stdout",
     "output_type": "stream",
     "text": [
      "data: [\"[{'id': 0, 'distance': 1.0, 'entity': {'text': 'Artificial intelligence was founded as an academic discipline in 1956.', 'subject': 'history'}}, {'id': 2, 'distance': 0.10314308106899261, 'entity': {'text': 'Born in Maida Vale, London, Turing was raised in southern England.', 'subject': 'history'}}]\"] \n"
     ]
    }
   ],
   "execution_count": 74
  },
  {
   "metadata": {
    "ExecuteTime": {
     "end_time": "2025-01-17T09:06:15.593451Z",
     "start_time": "2025-01-17T09:06:15.588536Z"
    }
   },
   "cell_type": "code",
   "source": [
    "# a query that retrieves all entities matching filter expressions.\n",
    "# 检索与过滤器表达式匹配的所有实体的查询。\n",
    "res = client.query(\n",
    "    collection_name=\"demo_collection\",\n",
    "    filter=\"subject == 'history'\",\n",
    "    output_fields=[\"text\", \"subject\"],\n",
    ")\n",
    "print(res)"
   ],
   "id": "748049c486b9152e",
   "outputs": [
    {
     "name": "stdout",
     "output_type": "stream",
     "text": [
      "data: [\"{'id': 0, 'text': 'Artificial intelligence was founded as an academic discipline in 1956.', 'subject': 'history'}\", \"{'id': 1, 'text': 'Alan Turing was the first person to conduct substantial research in AI.', 'subject': 'history'}\", \"{'id': 2, 'text': 'Born in Maida Vale, London, Turing was raised in southern England.', 'subject': 'history'}\"] \n"
     ]
    }
   ],
   "execution_count": 75
  },
  {
   "metadata": {},
   "cell_type": "markdown",
   "source": "删除",
   "id": "b979b81561010ca7"
  },
  {
   "metadata": {
    "ExecuteTime": {
     "end_time": "2025-01-17T09:06:17.618134Z",
     "start_time": "2025-01-17T09:06:17.614693Z"
    }
   },
   "cell_type": "code",
   "source": [
    "# delete\n",
    "res = client.delete(\n",
    "    collection_name=\"demo_collection\",\n",
    "    filter=\"subject == 'history'\",\n",
    ")\n",
    "print(res)"
   ],
   "id": "951d39aab4220da6",
   "outputs": [
    {
     "name": "stdout",
     "output_type": "stream",
     "text": [
      "{}\n"
     ]
    }
   ],
   "execution_count": 78
  },
  {
   "metadata": {},
   "cell_type": "code",
   "outputs": [],
   "execution_count": null,
   "source": "print('end');",
   "id": "4c89ee10adc84c8e"
  }
 ],
 "metadata": {
  "kernelspec": {
   "display_name": "Python 3",
   "language": "python",
   "name": "python3"
  },
  "language_info": {
   "codemirror_mode": {
    "name": "ipython",
    "version": 2
   },
   "file_extension": ".py",
   "mimetype": "text/x-python",
   "name": "python",
   "nbconvert_exporter": "python",
   "pygments_lexer": "ipython2",
   "version": "2.7.6"
  }
 },
 "nbformat": 4,
 "nbformat_minor": 5
}
